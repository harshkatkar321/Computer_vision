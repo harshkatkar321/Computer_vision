{
 "cells": [
  {
   "cell_type": "code",
   "execution_count": 2,
   "metadata": {},
   "outputs": [],
   "source": [
    "import cv2 as cv\n",
    "import numpy as np\n",
    "#input a image\n",
    "img=cv.imread('img.jpeg',0)\n",
    "cv.imshow('img',img)\n",
    "cv.waitKey(0)\n",
    "cv.destroyAllWindows()"
   ]
  },
  {
   "cell_type": "code",
   "execution_count": 7,
   "metadata": {},
   "outputs": [
    {
     "ename": "error",
     "evalue": "OpenCV(4.7.0) D:\\a\\opencv-python\\opencv-python\\opencv\\modules\\imgproc\\src\\filter.dispatch.cpp:1530: error: (-215:Assertion failed) !_src.empty() in function 'cv::filter2D'\n",
     "output_type": "error",
     "traceback": [
      "\u001b[1;31m---------------------------------------------------------------------------\u001b[0m",
      "\u001b[1;31merror\u001b[0m                                     Traceback (most recent call last)",
      "\u001b[1;32mc:\\Users\\katka\\OneDrive\\Documents\\4TH YEAR\\ACV\\hcap_1.ipynb Cell 2\u001b[0m line \u001b[0;36m1\n\u001b[0;32m      <a href='vscode-notebook-cell:/c%3A/Users/katka/OneDrive/Documents/4TH%20YEAR/ACV/hcap_1.ipynb#W1sZmlsZQ%3D%3D?line=7'>8</a>\u001b[0m     \u001b[39m# frame=cv.flip(frame,0)\u001b[39;00m\n\u001b[0;32m      <a href='vscode-notebook-cell:/c%3A/Users/katka/OneDrive/Documents/4TH%20YEAR/ACV/hcap_1.ipynb#W1sZmlsZQ%3D%3D?line=8'>9</a>\u001b[0m id_kernel\u001b[39m=\u001b[39mnp\u001b[39m.\u001b[39marray([[\u001b[39m-\u001b[39m\u001b[39m1\u001b[39m,\u001b[39m0\u001b[39m,\u001b[39m1\u001b[39m],\n\u001b[0;32m     <a href='vscode-notebook-cell:/c%3A/Users/katka/OneDrive/Documents/4TH%20YEAR/ACV/hcap_1.ipynb#W1sZmlsZQ%3D%3D?line=9'>10</a>\u001b[0m         [\u001b[39m-\u001b[39m\u001b[39m1\u001b[39m,\u001b[39m0\u001b[39m,\u001b[39m1\u001b[39m],     \u001b[39m#Filtering array \u001b[39;00m\n\u001b[0;32m     <a href='vscode-notebook-cell:/c%3A/Users/katka/OneDrive/Documents/4TH%20YEAR/ACV/hcap_1.ipynb#W1sZmlsZQ%3D%3D?line=10'>11</a>\u001b[0m         [\u001b[39m-\u001b[39m\u001b[39m1\u001b[39m,\u001b[39m0\u001b[39m,\u001b[39m1\u001b[39m]])\n\u001b[1;32m---> <a href='vscode-notebook-cell:/c%3A/Users/katka/OneDrive/Documents/4TH%20YEAR/ACV/hcap_1.ipynb#W1sZmlsZQ%3D%3D?line=11'>12</a>\u001b[0m frame\u001b[39m=\u001b[39mcv\u001b[39m.\u001b[39;49mfilter2D(src\u001b[39m=\u001b[39;49mframe,ddepth\u001b[39m=\u001b[39;49m\u001b[39m-\u001b[39;49m\u001b[39m1\u001b[39;49m,kernel\u001b[39m=\u001b[39;49mid_kernel)\n\u001b[0;32m     <a href='vscode-notebook-cell:/c%3A/Users/katka/OneDrive/Documents/4TH%20YEAR/ACV/hcap_1.ipynb#W1sZmlsZQ%3D%3D?line=12'>13</a>\u001b[0m out\u001b[39m.\u001b[39mwrite(frame)\n\u001b[0;32m     <a href='vscode-notebook-cell:/c%3A/Users/katka/OneDrive/Documents/4TH%20YEAR/ACV/hcap_1.ipynb#W1sZmlsZQ%3D%3D?line=13'>14</a>\u001b[0m cv\u001b[39m.\u001b[39mimshow(\u001b[39m'\u001b[39m\u001b[39mframe\u001b[39m\u001b[39m'\u001b[39m,frame)\n",
      "\u001b[1;31merror\u001b[0m: OpenCV(4.7.0) D:\\a\\opencv-python\\opencv-python\\opencv\\modules\\imgproc\\src\\filter.dispatch.cpp:1530: error: (-215:Assertion failed) !_src.empty() in function 'cv::filter2D'\n"
     ]
    }
   ],
   "source": [
    "# capturing video using inbuild camera\n",
    "# let's save the video\n",
    "vid=cv.VideoCapture(0)\n",
    "fourcc=cv.VideoWriter_fourcc(*'XVID')\n",
    "out=cv.VideoWriter('output.avi',fourcc,20.0,(640,480))\n",
    "while(True):\n",
    "    ret,frame=vid.read()\n",
    "        # frame=cv.flip(frame,0)\n",
    "    id_kernel=np.array([[-1,0,1],\n",
    "            [-1,0,1],     #Filtering array \n",
    "            [-1,0,1]])\n",
    "    frame=cv.filter2D(src=frame,ddepth=-1,kernel=id_kernel)\n",
    "    out.write(frame)\n",
    "    cv.imshow('frame',frame)\n",
    "    if cv.waitKey(1) & 0xFF==ord('q'):\n",
    "        break\n",
    "vid.release()\n",
    "out.release()\n",
    "cv.destroyAllWindows()\n"
   ]
  }
 ],
 "metadata": {
  "kernelspec": {
   "display_name": "Python 3",
   "language": "python",
   "name": "python3"
  },
  "language_info": {
   "codemirror_mode": {
    "name": "ipython",
    "version": 3
   },
   "file_extension": ".py",
   "mimetype": "text/x-python",
   "name": "python",
   "nbconvert_exporter": "python",
   "pygments_lexer": "ipython3",
   "version": "3.11.2"
  },
  "orig_nbformat": 4
 },
 "nbformat": 4,
 "nbformat_minor": 2
}
